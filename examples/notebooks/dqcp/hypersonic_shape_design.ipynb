{
 "cells": [
  {
   "cell_type": "markdown",
   "metadata": {
    "colab_type": "text",
    "id": "8FaMeOrwYSgB"
   },
   "source": [
    "# Aerospace Design via Quasiconvex Optimization \n",
    "\n",
    "Consider a triangle, or a wedge, located within a hypersonic flow. A standard aerospace design optimization problem is to design the wedge to maximize the lift-to-drag ratio (L/D) (or conversely minimize the D/L ratio), subject to certain geometric constraints. In this example, the wedge is known to have a constant hypotenuse, and our job is to choose its width and height.\n",
    "\n",
    "The drag-to-lift ratio is given by\n",
    "\n",
    "$$\n",
    "\\frac{\\mathrm{D}}{\\mathrm{L}} = \\frac{\\mathrm{c_d}}{\\mathrm{c_l}},\n",
    "$$\n",
    "\n",
    "where $\\mathrm{c_d}$ and $\\mathrm{c_l}$ are drag and lift coefficients, respectively, that are obtained by integrating the projection of the pressure coefficient in directions parallel to, and perpendicular to, the body.\n",
    "\n",
    "It turns out that the the drag-to-lift ratio is a quasilinear function, as we'll now show. We will assume the pressure coefficient is given by the Newtonian sine-squared law for whetted areas of the body,\n",
    "\n",
    "$$\n",
    "\\mathrm{c_p} = 2(\\hat{v}\\cdot\\hat{n})^2\n",
    "$$\n",
    "\n",
    "and elsewhere $\\mathrm{c_p} = 0$. Here, $\\hat{v}$ is the free stream direction, which for simplicity we will assume is parallel to the body so that, $\\hat{v} = \\langle 1, 0 \\rangle$, and $\\hat{n}$ is the local unit normal. For a wedge defined by width $\\Delta x$, and height $\\Delta y$, \n",
    "\n",
    "$$\n",
    "\\hat{n} = \\langle -\\Delta y/s,-\\Delta x/s \\rangle\n",
    "$$\n",
    "\n",
    "where $s$ is the hypotenuse length. Therefore,\n",
    "\n",
    "$$\n",
    "\\mathrm{c_p} = 2((1)(-\\Delta y/s)+(0)(-\\Delta x/s))^2 = \\frac{2 \\Delta y^2}{s^2}\n",
    "$$\n",
    "\n",
    "The lift and drag coefficients are given by\n",
    "\n",
    "$$\n",
    "\\begin{align*}\n",
    "\\mathrm{c_d} &= \\frac{1}{c}\\int_0^s -\\mathrm{c_p}\\hat{n}_x \\mathrm{d}s \\\\\n",
    "\\mathrm{c_l} &= \\frac{1}{c}\\int_0^s -\\mathrm{c_p}\\hat{n}_y \\mathrm{d}s\n",
    "\\end{align*}\n",
    "$$\n",
    "\n",
    "Where $c$ is the reference chord length of the body. Given that $\\hat{n}$, and therefore $\\mathrm{c_p}$ are constant over the whetted surface of the body,\n",
    "\n",
    "$$\n",
    "\\begin{align*}\n",
    "\\mathrm{c_d} &= -\\frac{s}{c}\\mathrm{c_p}\\hat{n}_x = \\frac{s}{c}\\frac{2 \\Delta y^2}{s^2}\\frac{\\Delta y}{s} \\\\\n",
    "\\mathrm{c_l} &= -\\frac{s}{c}\\mathrm{c_p}\\hat{n}_y = \\frac{s}{c}\\frac{2 \\Delta y^2}{s^2}\\frac{\\Delta x}{s}\n",
    "\\end{align*}\n",
    "$$\n",
    "\n",
    "Assuming $s=1$, so that $\\Delta y = \\sqrt{1-\\Delta x^2}$, plugging in the above into the equation for $D/L$, we obtain \n",
    "\n",
    "$$\n",
    "\\frac{\\mathrm{D}}{\\mathrm{L}} = \\frac{\\Delta y}{\\Delta x} = \\frac{\\sqrt{1-\\Delta x^2}}{\\Delta x} = \\sqrt{\\frac{1}{\\Delta x^2}-1}.\n",
    "$$\n",
    "\n",
    "This function is representable as a DQCP, quasilinear function. We plot it below, and then we write it using DQCP.\n"
   ]
  },
  {
   "cell_type": "code",
   "execution_count": 1,
   "metadata": {
    "colab": {
     "base_uri": "https://localhost:8080/",
     "height": 283
    },
    "colab_type": "code",
    "id": "1Sx2TUDOXwQ7",
    "outputId": "993dfb1c-3f01-499e-8282-28a72de83a2a"
   },
   "outputs": [
    {
     "data": {
      "text/plain": [
       "[<matplotlib.lines.Line2D at 0x12710aad0>]"
      ]
     },
     "execution_count": 1,
     "metadata": {},
     "output_type": "execute_result"
    },
    {
     "data": {
      "image/png": "[encoded data removed]",
      "text/plain": [
       "<Figure size 640x480 with 1 Axes>"
      ]
     },
     "metadata": {},
     "output_type": "display_data"
    }
   ],
   "source": [
    "%matplotlib inline\n",
    "\n",
    "import matplotlib\n",
    "import numpy as np\n",
    "import matplotlib.pyplot as plt\n",
    "import math\n",
    "\n",
    "x = np.linspace(.25,1,num=201)\n",
    "obj = []\n",
    "for i in range(len(x)):\n",
    "    obj.append(math.sqrt(1/x[i]**2-1))\n",
    "\n",
    "plt.plot(x,obj)"
   ]
  },
  {
   "cell_type": "code",
   "execution_count": 5,
   "metadata": {
    "colab": {
     "base_uri": "https://localhost:8080/",
     "height": 34
    },
    "colab_type": "code",
    "id": "yXdP_PXeXyJI",
    "outputId": "aecdeea8-cf8b-4c95-f88b-206415d70df3"
   },
   "outputs": [
    {
     "name": "stdout",
     "output_type": "stream",
     "text": [
      "This objective function is QUASILINEAR\n"
     ]
    }
   ],
   "source": [
    "import cvxpy as cp\n",
    "\n",
    "x = cp.Variable(pos=True)\n",
    "obj = cp.sqrt(cp.inv_pos(cp.square(x))-1)\n",
    "print(\"This objective function is\", obj.curvature)"
   ]
  },
  {
   "cell_type": "markdown",
   "metadata": {
    "colab_type": "text",
    "id": "N_wi4BJuYRKh"
   },
   "source": [
    "Minimizing this objective function subject to constraints representing payload requirements is a standard aerospace design problem. In this case we will consider the constraint that the wedge must be able to contain a rectangle of given length and width internally along its hypotenuse. This is representable as a convex constraint."
   ]
  },
  {
   "cell_type": "code",
   "execution_count": 8,
   "metadata": {
    "colab": {
     "base_uri": "https://localhost:8080/",
     "height": 34
    },
    "colab_type": "code",
    "id": "wrXBd8faStXs",
    "outputId": "3dbe0fcf-cb39-4109-f8ba-e5c3d8a0cd14"
   },
   "outputs": [
    {
     "name": "stdout",
     "output_type": "stream",
     "text": [
      "[Inequality(Expression(CONVEX, UNKNOWN, ())), Inequality(Variable((), var3655, pos=True))]\n"
     ]
    }
   ],
   "source": [
    "a = .05 # USER INPUT: height of rectangle, should be at most b\n",
    "b = .65 # USER INPUT: width of rectangle\n",
    "constraint = [a*cp.inv_pos(x)-(1-b)*cp.sqrt(1-cp.square(x))<=0, x <= 1]\n",
    "print(constraint)"
   ]
  },
  {
   "cell_type": "code",
   "execution_count": 9,
   "metadata": {
    "colab": {
     "base_uri": "https://localhost:8080/",
     "height": 734
    },
    "colab_type": "code",
    "id": "43nliP73StzN",
    "outputId": "1e3a3170-cb98-4c70-949e-9c2ded0d0de8"
   },
   "outputs": [
    {
     "name": "stdout",
     "output_type": "stream",
     "text": [
      "===============================================================================\n",
      "                                     CVXPY                                     \n",
      "                             v1.4.0.dev0+0.02ce7a7                             \n",
      "===============================================================================\n",
      "(CVXPY) Jul 28 05:15:05 PM: Your problem has 1 variables, 2 constraints, and 0 parameters.\n",
      "(CVXPY) Jul 28 05:15:05 PM: It is compliant with the following grammars: DQCP\n",
      "(CVXPY) Jul 28 05:15:05 PM: (If you need to solve this problem multiple times, but with different data, consider using parameters.)\n",
      "(CVXPY) Jul 28 05:15:05 PM: CVXPY will first compile your problem; then, it will invoke a numerical solver to obtain a solution.\n",
      "(CVXPY) Jul 28 05:15:05 PM: Reducing DQCP problem to a one-parameter family of DCP problems, for bisection.\n",
      "going through constraint:\n",
      "0.05 @ power(var3655, -1.0) + -0.35 @ power(1.0 + -power(var3655, 2.0), 0.5) <= 0.0\n",
      "going through constraint:\n",
      "var3655 <= 1.0\n",
      "going through constraint:\n",
      "power(power(power(var3655, 2.0), -1.0) + -1.0, 0.5) <= param7374\n",
      "inverting lhs\n",
      "<class 'cvxpy.atoms.elementwise.power.power'> power(power(power(var3655, 2.0), -1.0) + -1.0, 0.5) True\n",
      "going through constraint:\n",
      "power(power(var3655, 2.0), -1.0) + -1.0 <= power(param7374, 2.0)\n",
      "inverting lhs\n",
      "<class 'cvxpy.atoms.affine.add_expr.AddExpression'> power(power(var3655, 2.0), -1.0) + -1.0 False\n",
      "going through constraint:\n",
      "power(power(var3655, 2.0), -1.0) <= power(param7374, 2.0) + --1.0\n",
      "inverting lhs\n",
      "<class 'cvxpy.atoms.elementwise.power.power'> power(power(var3655, 2.0), -1.0) True\n",
      "going through constraint:\n",
      "power(power(param7374, 2.0) + --1.0, -1.0) <= power(var3655, 2.0)\n",
      "inverting rhs\n",
      "<class 'cvxpy.atoms.elementwise.power.power'> power(var3655, 2.0) True\n",
      "going through constraint:\n",
      "power(power(power(param7374, 2.0) + --1.0, -1.0), 0.5) <= var3655\n",
      "\n",
      "********************************************************************************\n",
      "Preparing to bisect problem\n",
      "\n",
      "minimize 0.0\n",
      "subject to 0.05 @ var7326 + -0.35 @ var7353 <= 0.0\n",
      "           SOC(reshape(var3655 + var7326, (1,), F), Vstack(reshape(var3655 + -var7326, (1, 1), F), reshape(2.0 @ 1.0, (1, 1), F)))\n",
      "           SOC(reshape(var7339 + 1.0, (1,), F), Vstack(reshape(var7339 + -1.0, (1, 1), F), reshape(2.0 @ var3655, (1, 1), F)))\n",
      "           SOC(reshape(1.0 + -var7339 + 1.0, (1,), F), Vstack(reshape(1.0 + -var7339 + -1.0, (1, 1), F), reshape(2.0 @ var7353, (1, 1), F)))\n",
      "           var3655 <= 1.0\n",
      "           var7425 <= var3655\n",
      "           SOC(reshape(var7400 + 1.0, (1,), F), Vstack(reshape(var7400 + -1.0, (1, 1), F), reshape(2.0 @ param7374, (1, 1), F)))\n",
      "           SOC(reshape(var7400 + --1.0 + var7413, (1,), F), Vstack(reshape(var7400 + --1.0 + -var7413, (1, 1), F), reshape(2.0 @ 1.0, (1, 1), F)))\n",
      "           SOC(reshape(var7413 + 1.0, (1,), F), Vstack(reshape(var7413 + -1.0, (1, 1), F), reshape(2.0 @ var7425, (1, 1), F)))\n",
      "\n",
      "Finding interval for bisection ...\n",
      "initial lower bound: 0.000000\n",
      "initial upper bound: 1.000000\n",
      "\n",
      "(iteration 0) lower bound: 0.000000\n",
      "(iteration 0) upper bound: 1.000000\n",
      "(iteration 0) query point: 0.500000 \n",
      "(iteration 0) query was feasible. Solution(status=optimal, opt_val=-1.0820736489989922e-10, primal_vars={7326: array(2.24768477), 7353: array(0.54330035), 3655: 0.5657311808253748, 7339: array(0.4915066), 7425: array(-0.18271301), 7400: array(0.95108364), 7413: array(1.2473442)}, dual_vars={7320: 9.320354154968173e-10, 7335: array([ 2.22492076e-10,  1.59570330e-10, -1.55048488e-10]), 7348: array([ 1.95171956e-10,  7.36889109e-11, -1.79372546e-10]), 7362: array([ 1.85197111e-10,  8.36637557e-11, -1.63106198e-10]), 7324: -5.748162597078246e-11, 7398: -5.483864030957094e-12, 7409: array([ 1.33569957e-11,  4.06151394e-12, -1.13550866e-11]), 7422: array([ 2.19482956e-11, -6.72685578e-12, -1.57175415e-11]), 7434: array([ 3.07337276e-12,  8.91425320e-13, -2.74193202e-12])}, attr={'solve_time': 0.0004410743713378906}))\n",
      "\n",
      "(iteration 5) lower bound: 0.000000\n",
      "(iteration 5) upper bound: 0.031250\n",
      "(iteration 5) query point: 0.015625 \n",
      "(iteration 5) query was feasible. Solution(status=optimal, opt_val=-3.823458266295263e-12, primal_vars={7326: array(2.24103987), 7353: array(0.54653848), 3655: 0.5538783787239704, 7339: array(0.48260265), 7425: array(-0.18102099), 7400: array(0.71402237), 7413: array(1.26509027)}, dual_vars={7320: 3.3212091054085346e-11, 7335: array([ 7.88429753e-12,  5.65650917e-12, -5.48225181e-12]), 7348: array([ 6.97323021e-12,  2.61111968e-12, -6.41293194e-12]), 7362: array([ 6.59471031e-12,  2.98963958e-12, -5.81211593e-12]), 7324: -2.0230019522693022e-12, 7398: -1.5118502866104527e-13, 7409: array([ 2.05132368e-13,  1.42327607e-13, -5.20314850e-15]), 7422: array([ 9.08148322e-13, -1.21240680e-13, -8.22274717e-13]), 7434: array([ 7.97054610e-14,  2.52731536e-14, -7.55925143e-14])}, attr={'solve_time': 0.00036597251892089844}))\n",
      "\n",
      "(iteration 10) lower bound: 0.000000\n",
      "(iteration 10) upper bound: 0.000977\n",
      "(iteration 10) query point: 0.000488 \n",
      "(iteration 10) query was feasible. Solution(status=optimal, opt_val=-3.855559135821012e-12, primal_vars={7326: array(2.24115603), 7353: array(0.54657412), 3655: 0.5537794706643773, 7339: array(0.48252033), 7425: array(-0.18112833), 7400: array(0.71372998), 7413: array(1.26505687)}, dual_vars={7320: 3.34850525818575e-11, 7335: array([ 7.94897349e-12,  5.70278533e-12, -5.52678417e-12]), 7348: array([ 7.03041305e-12,  2.63246002e-12, -6.46544384e-12]), 7362: array([ 6.64886449e-12,  3.01400857e-12, -5.85988420e-12]), 7324: -2.039961862144008e-12, 7398: -1.5258898085563049e-13, 7409: array([ 2.06699383e-13,  1.43468587e-13, -1.63511678e-16]), 7422: array([ 9.15815889e-13, -1.22112801e-13, -8.29234974e-13]), 7434: array([ 8.04429566e-14,  2.54994114e-14, -7.62944904e-14])}, attr={'solve_time': 0.0003578662872314453}))\n",
      "\n",
      "(iteration 15) lower bound: 0.000000\n",
      "(iteration 15) upper bound: 0.000031\n",
      "(iteration 15) query point: 0.000015 \n",
      "(iteration 15) query was feasible. Solution(status=optimal, opt_val=-3.855590580497938e-12, primal_vars={7326: array(2.24115615), 7353: array(0.54657416), 3655: 0.5537793733559264, 7339: array(0.48252025), 7425: array(-0.18112844), 7400: array(0.71372969), 7413: array(1.26505684)}, dual_vars={7320: 3.348531995879438e-11, 7335: array([ 7.94903684e-12,  5.70283066e-12, -5.52682779e-12]), 7348: array([ 7.03046906e-12,  2.63248092e-12, -6.46549527e-12]), 7362: array([ 6.64891754e-12,  3.01403244e-12, -5.85993099e-12]), 7324: -2.0399784698876634e-12, 7398: -1.5259035663548188e-13, 7409: array([ 2.06700919e-13,  1.43469704e-13, -5.10976779e-18]), 7422: array([ 9.15823399e-13, -1.22113655e-13, -8.29241793e-13]), 7434: array([ 8.04436792e-14,  2.54996330e-14, -7.62951783e-14])}, attr={'solve_time': 0.00038123130798339844}))\n",
      "\n",
      "Bisection completed, with lower bound 0.000000 and upper bound 0.0000010\n",
      "********************************************************************************\n",
      "\n",
      "Final L/D Ratio =  0.6650698782775458\n",
      "Final width of wedge =  0.5537793732611765\n",
      "Final height of wedge =  0.832663440863389\n"
     ]
    }
   ],
   "source": [
    "prob = cp.Problem(cp.Minimize(obj), constraint)\n",
    "\n",
    "# from cvxpy.reductions.dqcp2dcp.dqcp2dcp import Dqcp2Dcp\n",
    "\n",
    "# probDCP = Dqcp2Dcp(prob).reduce()\n",
    "\n",
    "# print(probDCP)\n",
    "\n",
    "prob.solve(qcp=True, verbose=True, solver=cp.MOSEK)\n",
    "print('Final L/D Ratio = ', 1/obj.value)\n",
    "print('Final width of wedge = ', x.value)\n",
    "print('Final height of wedge = ', math.sqrt(1-x.value**2))"
   ]
  },
  {
   "cell_type": "markdown",
   "metadata": {
    "colab_type": "text",
    "id": "mapH_CrHuKVU"
   },
   "source": [
    "Once the solution has been found, we can create a plot to verify that the rectangle is inscribed within the wedge."
   ]
  },
  {
   "cell_type": "code",
   "execution_count": null,
   "metadata": {
    "colab": {
     "base_uri": "https://localhost:8080/",
     "height": 333
    },
    "colab_type": "code",
    "id": "fxfYRD7Jga2R",
    "outputId": "fea6812f-ab04-4879-a1a4-69e84f515736"
   },
   "outputs": [],
   "source": [
    "y = math.sqrt(1-x.value**2)\n",
    "lambda1 = a*x.value/y\n",
    "lambda2 = a*x.value**2/y+a*y\n",
    "lambda3 = a*x.value-y*(a*x.value/y-b)\n",
    "\n",
    "plt.plot([0,x.value],[0,0],'b.-')\n",
    "plt.plot([0,x.value],[0,-y],'b.-')\n",
    "plt.plot([x.value,x.value],[0,-y],'b.-')\n",
    "\n",
    "pt1 = [lambda1*x.value,-lambda1*y]\n",
    "pt2 = [(lambda1+b)*x.value,-(lambda1+b)*y]\n",
    "pt3 = [(lambda1+b)*x.value+a*y,-(lambda1+b)*y+a*x.value]\n",
    "pt4 = [lambda1*x.value+a*y,-lambda1*y+a*x.value]\n",
    "\n",
    "plt.plot([pt1[0],pt2[0]],[pt1[1],pt2[1]],'r.-')\n",
    "plt.plot([pt2[0],pt3[0]],[pt2[1],pt3[1]],'r.-')\n",
    "plt.plot([pt3[0],pt4[0]],[pt3[1],pt4[1]],'r.-')\n",
    "plt.plot([pt4[0],pt1[0]],[pt4[1],pt1[1]],'r.-')\n",
    "\n",
    "plt.axis('equal')"
   ]
  }
 ],
 "metadata": {
  "colab": {
   "collapsed_sections": [],
   "name": "QuasiconvexAerospaceShapeDesignExample.ipynb",
   "provenance": []
  },
  "kernelspec": {
   "display_name": "Python 3",
   "language": "python",
   "name": "python3"
  },
  "language_info": {
   "codemirror_mode": {
    "name": "ipython",
    "version": 3
   },
   "file_extension": ".py",
   "mimetype": "text/x-python",
   "name": "python",
   "nbconvert_exporter": "python",
   "pygments_lexer": "ipython3",
   "version": "3.11.4"
  }
 },
 "nbformat": 4,
 "nbformat_minor": 1
}
